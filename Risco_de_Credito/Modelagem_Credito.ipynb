{
 "cells": [
  {
   "attachments": {},
   "cell_type": "markdown",
   "metadata": {},
   "source": [
    "<h1 style='color: blue; font-size: 34px; font-weight: bold;'> Projeto Proposto \n",
    "</h1>\n",
    "<p style='font-size: 18px; line-height: 2; margin: 0px 0px; text-align: justify; text-indent: 0px;'>    \n",
    "<i> Este projeto tem o intuito de estudar Redes Neurais Artificiais e suas aplicações em Deep Learning </i>       \n",
    "</p>  "
   ]
  },
  {
   "attachments": {},
   "cell_type": "markdown",
   "metadata": {},
   "source": [
    "# <font color='red' style='font-size: 40px;'> Bibliotecas Utilizadas </font>\n",
    "<hr style='border: 2px solid red;'>"
   ]
  },
  {
   "cell_type": "code",
   "execution_count": 1,
   "metadata": {},
   "outputs": [],
   "source": [
    "import pandas as pd \n",
    "import numpy as np\n",
    "import statsmodels.api as sm\n",
    "import statsmodels.formula.api as smf\n",
    "from statsmodels.stats.weightstats import ztest\n",
    "from statsmodels.stats.diagnostic import lilliefors\n",
    "from statsmodels.tsa import stattools\n",
    "from statsmodels.graphics.tsaplots import plot_acf, plot_pacf \n",
    "from statsmodels.tsa.seasonal import seasonal_decompose\n",
    "from scipy.stats import bernoulli, binom, poisson, geom, norm, chi2, f, normaltest, ttest_ind, ttest_rel, wilcoxon, mannwhitneyu, kruskal\n",
    "import matplotlib.pyplot as plt\n",
    "import seaborn as sns \n",
    "import plotly.express as px \n",
    "import plotly.graph_objects as go\n",
    "import importlib\n",
    "import transition_matrix_estimator\n",
    "from transition_matrix_estimator import TransitionMatrixLearner\n",
    "import time\n",
    "import datetime\n",
    "import warnings\n",
    "import category_encoders as ce \n",
    "from category_encoders import BinaryEncoder\n",
    "from sklearn.model_selection import train_test_split\n",
    "from sklearn.linear_model import LogisticRegression\n",
    "from sklearn.metrics import accuracy_score, roc_auc_score, precision_score, recall_score, f1_score, confusion_matrix\n",
    "\n",
    "%matplotlib inline\n",
    "sns.set(style=\"whitegrid\", font_scale=1.2)\n",
    "plt.rcParams['font.family'] = 'Arial'\n",
    "plt.rcParams['font.size'] = '14'\n",
    "plt.rcParams['figure.figsize'] = [10, 5]\n",
    "pd.set_option('display.max_rows', 100)\n",
    "pd.set_option('display.max_columns', 100)\n",
    "pd.set_option('display.float_format', lambda x: '%.4f' % x) # Tira os números do formato de Notação Científica\n",
    "np.set_printoptions(suppress=True) # Tira os números do formato de Notação Científica em Numpy Arrays\n",
    "warnings.filterwarnings('ignore')\n",
    "warnings.simplefilter(action='ignore', category=FutureWarning) # Retira Future Warnings"
   ]
  },
  {
   "attachments": {},
   "cell_type": "markdown",
   "metadata": {},
   "source": [
    "# <font color='red' style='font-size: 40px;'> Exemplo Montagem de Target </font>\n",
    "<hr style='border: 2px solid red;'>"
   ]
  },
  {
   "attachments": {},
   "cell_type": "markdown",
   "metadata": {},
   "source": [
    "# <font color='green' style='font-size: 30px;'> 1.1) Teste 1 </font>\n",
    "<hr style='border: 2px solid green;'>\n",
    "\n",
    "> 1. Testes de Continuidade: Verificação da consistência temporal dos dados por contrato (sem quebras ou lacunas indevidas).\n",
    "\n",
    "> 2. Criação da Coluna flag_acordo: Identificação de registros com acordos ou renegociações.\n",
    "\n",
    "> 3. Criação da Coluna over90: Flag mensal de inadimplência grave (atraso superior a 90 dias).\n",
    "\n",
    "> 4. Criação da Coluna mau: Identificação de contratos irrecuperáveis com base em regras de negócio.\n",
    "\n",
    "> 5. Construção do Grupo Performing: Definição da amostra elegível para modelagem de PD, com base no status performing.\n",
    "\n",
    "> 6. Criação da Coluna ever90m12: Indica se o contrato atingiu atraso >90 dias em qualquer mês dos próximos 12 meses (sem considerar acordos).\n",
    "\n",
    "> 7. Criação da Coluna over90m12: Indica se o contrato está em atraso >90 dias ao final da janela futura de 12 meses (sem considerar acordos).\n",
    "\n",
    "> 8. Criação da Coluna target: Flag final de inadimplência futura, considerando tanto atraso quanto acordos.\n",
    "\n",
    "> 9. Congelamento do Snapshot de Contratos: Seleção de uma linha por contrato para representar o momento de avaliação (janela de decisão).\n",
    "\n",
    "> 10. Curva de Inadimplência (over90) por Mês: Análise temporal do volume de contratos inadimplentes mês a mês (painel e snapshot).\n",
    "\n",
    "> 11. Curvas de ever90m12 e over90m12 por Mês: Evolução mensal dos indicadores prospectivos de risco (apenas painel).\n",
    "\n",
    "> 12. Construção da Matriz de Transição: Avaliação da migração de status de crédito entre períodos (ex: performing → inadimplente).\n",
    "\n",
    "> 13. Construção da Curva de Cura: Medição da recuperação de contratos inadimplentes ao longo do tempo."
   ]
  },
  {
   "cell_type": "markdown",
   "metadata": {},
   "source": [
    "### 1.1.1) Entendimento de Conceitos\n",
    "\n",
    "> 1. data_inicio_contrato\n",
    "\n",
    "- É a data que o cliente e o banco firmaram acordo, como por exemplo 2014-09-30\n",
    "- Em muitos casos, existe \"carência\" até o 1 vencimento, portanto, o contrato existe juridicamente mas não dá para medir performance ainda\n",
    "\n",
    "> 2. safra:\n",
    "\n",
    "- Mês de nascimento da performance\n",
    "- Se a primeira parcela vence em jan/2025, o contrato é marcado como safra de 201501\n",
    "\n",
    "> 3. dat_ref:\n",
    "\n",
    "- A cada dat_ref (foto mensal), o contrato é monitorado\n",
    "- A safra nunca muda, porque é o \"carimbo\" da geração"
   ]
  },
  {
   "cell_type": "code",
   "execution_count": null,
   "metadata": {},
   "outputs": [],
   "source": [
    "historico  = pd.read_parquet('./data/full_history.parquet')\n",
    "historico['data_ref'] = pd.to_datetime(historico['data_ref'])\n",
    "historico .sort_values(by=['id_contrato','data_ref'], inplace=True)\n",
    "\n",
    "rastro_contratos = pd.read_parquet('./data/rastro_contratos.parquet')\n",
    "rastro_contratos['data_evento'] = pd.to_datetime(rastro_contratos['data_evento'])\n",
    "rastro_contratos.sort_values(by=['id_antigo','id_novo', 'data_evento'], inplace=True)\n",
    "\n",
    "display(historico.head(10))\n",
    "display(rastro_contratos.head(10))\n",
    "\n"
   ]
  },
  {
   "cell_type": "markdown",
   "metadata": {},
   "source": [
    "### 1.1.2) Flag de Renegociação   \n",
    "\n",
    "> 1. Renegociação é quando o cliente não consegue mais horar o contrato original e o banco faz um novo acordo para tentar recuperar o crédito. Exemplo:\n",
    "\n",
    "- O cliente estava atrasado várias parcelas\n",
    "- Ao invés do banco contabilizar uma perda efetivamente, o banco oferece uma renegociação:\n",
    "    - Pode reparcelar o saldo devedor em novas condições de prazos\n",
    "    - Pode descontar parte da dívida\n",
    "    - Pode dar carência antes de retomar os pagamentos\n",
    "- Nesses casos, o ID do contrato geralmente muda e o novo ID carrega a dívida renegociada"
   ]
  },
  {
   "cell_type": "code",
   "execution_count": null,
   "metadata": {},
   "outputs": [],
   "source": [
    "# Eventos para o contrato antigo (renegociado) …\n",
    "flag_old = (\n",
    "    rastro_contratos[['id_antigo', 'data_evento_mes']]\n",
    "    .rename(columns={'id_antigo': 'id_contrato'})\n",
    ")\n",
    "\n",
    "# … e para o contrato novo (substituto)\n",
    "flag_new = (\n",
    "    rastro_contratos[['id_novo', 'data_evento_mes']]\n",
    "    .rename(columns={'id_novo': 'id_contrato'})\n",
    ")\n",
    "\n",
    "flag_acordo_tb = (\n",
    "    pd.concat([flag_old, flag_new], ignore_index=True)\n",
    "    .assign(flag_acordo=1)\n",
    "    .drop_duplicates()\n"
   ]
  },
  {
   "cell_type": "code",
   "execution_count": null,
   "metadata": {},
   "outputs": [],
   "source": [
    "historico.loc[historico['id_contrato'] == '10000000']"
   ]
  },
  {
   "cell_type": "code",
   "execution_count": null,
   "metadata": {},
   "outputs": [],
   "source": [
    "rastro_contratos.loc[rastro_contratos['id_antigo'] == '10000000']"
   ]
  },
  {
   "cell_type": "code",
   "execution_count": null,
   "metadata": {},
   "outputs": [],
   "source": []
  },
  {
   "cell_type": "code",
   "execution_count": null,
   "metadata": {},
   "outputs": [],
   "source": []
  },
  {
   "cell_type": "code",
   "execution_count": null,
   "metadata": {},
   "outputs": [],
   "source": []
  },
  {
   "cell_type": "markdown",
   "metadata": {},
   "source": [
    "# <font color='red' style='font-size: 40px;'> Exemplo Rolagem </font>\n",
    "<hr style='border: 2px solid red;'>\n",
    "\n",
    "https://www.kaggle.com/datasets/adilshamim8/credit-risk-benchmark-dataset"
   ]
  },
  {
   "cell_type": "code",
   "execution_count": 4,
   "metadata": {},
   "outputs": [],
   "source": [
    "df = pd.read_csv('./data/Credit Risk Benchmark Dataset.csv')"
   ]
  },
  {
   "cell_type": "code",
   "execution_count": null,
   "metadata": {},
   "outputs": [],
   "source": []
  },
  {
   "cell_type": "markdown",
   "metadata": {},
   "source": [
    "# <font color='red' style='font-size: 40px;'> Exemplo Inferência de Negados </font>\n",
    "<hr style='border: 2px solid red;'>\n",
    "\n",
    "https://python.plainenglish.io/a-project-on-reject-inference-94a6858bc821\n",
    "\n",
    "https://www.kaggle.com/code/shraddhacodes/credit-card-default-reject-inference-project"
   ]
  },
  {
   "cell_type": "markdown",
   "metadata": {},
   "source": [
    "# <font color='green' style='font-size: 30px;'> 1.1) Teste 1 </font>\n",
    "<hr style='border: 2px solid green;'>"
   ]
  },
  {
   "cell_type": "code",
   "execution_count": 3,
   "metadata": {},
   "outputs": [],
   "source": [
    "df_approved = pd.read_excel('./data/appbeh_approved.xlsx')\n",
    "df_rej = pd.read_excel('./data/appbeh_rej.xlsx')"
   ]
  },
  {
   "cell_type": "code",
   "execution_count": null,
   "metadata": {},
   "outputs": [],
   "source": []
  },
  {
   "cell_type": "markdown",
   "metadata": {},
   "source": [
    "# <font color='red' style='font-size: 40px;'> Exemplo Regressão Logística + Binning + Scorecard </font>\n",
    "<hr style='border: 2px solid red;'>\n",
    "\n",
    "\n",
    "https://www.kaggle.com/datasets/s3r1alsh0ck/finance-dataset-for-credit-risk-fraud-detection"
   ]
  },
  {
   "cell_type": "markdown",
   "metadata": {},
   "source": [
    "# <font color='green' style='font-size: 30px;'> 1.1) Teste 1 </font>\n",
    "<hr style='border: 2px solid green;'>"
   ]
  },
  {
   "cell_type": "code",
   "execution_count": null,
   "metadata": {},
   "outputs": [],
   "source": [
    "\n",
    "def optimal_binning_sim(df, feature, target, n_bins=5):\n",
    "    \"\"\"\n",
    "    Simula Optimal Binning usando quantis e calcula WoE e IV.\n",
    "    \n",
    "    Parâmetros:\n",
    "        df (pd.DataFrame): DataFrame com feature e target\n",
    "        feature (str): Nome da variável contínua\n",
    "        target (str): Nome da variável target binária (0/1)\n",
    "        n_bins (int): Número de bins desejado\n",
    "    \n",
    "    Retorna:\n",
    "        pd.DataFrame com: Bin, min, max, n_obs, n_good, n_bad, %good, %bad, WoE, IV\n",
    "    \"\"\"\n",
    "    \n",
    "    # Criar bins usando quantis\n",
    "    df = df.copy()\n",
    "    df['bin'] = pd.qcut(df[feature], q=n_bins, duplicates='drop')\n",
    "    \n",
    "    # Inicializar tabela\n",
    "    bins_table = df.groupby('bin').agg(\n",
    "        n_obs=(target, 'count'),\n",
    "        n_bad=(target, 'sum')\n",
    "    ).reset_index()\n",
    "    \n",
    "    bins_table['n_good'] = bins_table['n_obs'] - bins_table['n_bad']\n",
    "    bins_table['%bad'] = bins_table['n_bad'] / bins_table['n_bad'].sum()\n",
    "    bins_table['%good'] = bins_table['n_good'] / bins_table['n_good'].sum()\n",
    "    \n",
    "    # Calcular WoE\n",
    "    # Evitar divisão por zero\n",
    "    bins_table['WoE'] = np.log((bins_table['%good'] + 1e-6) / (bins_table['%bad'] + 1e-6))\n",
    "    \n",
    "    # Calcular IV\n",
    "    bins_table['IV'] = (bins_table['%good'] - bins_table['%bad']) * bins_table['WoE']\n",
    "    \n",
    "    # Adicionar limites do bin\n",
    "    bins_table['min'] = bins_table['bin'].apply(lambda x: x.left)\n",
    "    bins_table['max'] = bins_table['bin'].apply(lambda x: x.right)\n",
    "    \n",
    "    bins_table = bins_table[['bin','min','max','n_obs','n_good','n_bad','%good','%bad','WoE','IV']]\n",
    "    \n",
    "    return bins_table\n",
    "\n",
    "# -------------------------\n",
    "# Exemplo de uso\n",
    "# -------------------------\n",
    "np.random.seed(42)\n",
    "df = pd.DataFrame({\n",
    "    \"renda\": np.random.normal(5000, 2000, 1000),\n",
    "    \"inadimplente\": np.random.choice([0,1], size=1000, p=[0.85,0.15])\n",
    "})\n",
    "\n",
    "bins_df = optimal_binning_sim(df, feature='renda', target='inadimplente', n_bins=5)\n",
    "print(bins_df)\n",
    "print(\"\\nIV total:\", bins_df['IV'].sum())\n"
   ]
  },
  {
   "cell_type": "code",
   "execution_count": 5,
   "metadata": {},
   "outputs": [],
   "source": [
    "df_= pd.read_csv('./data/5k.csv')"
   ]
  },
  {
   "cell_type": "code",
   "execution_count": null,
   "metadata": {},
   "outputs": [],
   "source": []
  }
 ],
 "metadata": {
  "kernelspec": {
   "display_name": "base",
   "language": "python",
   "name": "python3"
  },
  "language_info": {
   "codemirror_mode": {
    "name": "ipython",
    "version": 3
   },
   "file_extension": ".py",
   "mimetype": "text/x-python",
   "name": "python",
   "nbconvert_exporter": "python",
   "pygments_lexer": "ipython3",
   "version": "3.13.5"
  },
  "orig_nbformat": 4
 },
 "nbformat": 4,
 "nbformat_minor": 2
}
