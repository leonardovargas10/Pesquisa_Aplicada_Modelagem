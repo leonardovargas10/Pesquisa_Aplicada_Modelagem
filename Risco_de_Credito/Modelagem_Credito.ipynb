{
 "cells": [
  {
   "attachments": {},
   "cell_type": "markdown",
   "metadata": {},
   "source": [
    "<h1 style='color: blue; font-size: 34px; font-weight: bold;'> Projeto Proposto \n",
    "</h1>\n",
    "<p style='font-size: 18px; line-height: 2; margin: 0px 0px; text-align: justify; text-indent: 0px;'>    \n",
    "<i> Este projeto tem o intuito de estudar Redes Neurais Artificiais e suas aplicações em Deep Learning </i>       \n",
    "</p>  "
   ]
  },
  {
   "attachments": {},
   "cell_type": "markdown",
   "metadata": {},
   "source": [
    "# <font color='red' style='font-size: 40px;'> Bibliotecas Utilizadas </font>\n",
    "<hr style='border: 2px solid red;'>"
   ]
  },
  {
   "cell_type": "code",
   "execution_count": 1,
   "metadata": {},
   "outputs": [],
   "source": [
    "import pandas as pd \n",
    "import numpy as np\n",
    "import statsmodels.api as sm\n",
    "import statsmodels.formula.api as smf\n",
    "from statsmodels.stats.weightstats import ztest\n",
    "from statsmodels.stats.diagnostic import lilliefors\n",
    "from statsmodels.tsa import stattools\n",
    "from statsmodels.graphics.tsaplots import plot_acf, plot_pacf \n",
    "from statsmodels.tsa.seasonal import seasonal_decompose\n",
    "from scipy.stats import bernoulli, binom, poisson, geom, norm, chi2, f, normaltest, ttest_ind, ttest_rel, wilcoxon, mannwhitneyu, kruskal\n",
    "import matplotlib.pyplot as plt\n",
    "import seaborn as sns \n",
    "import plotly.express as px \n",
    "import plotly.graph_objects as go\n",
    "import importlib\n",
    "import transition_matrix_estimator\n",
    "from transition_matrix_estimator import TransitionMatrixLearner\n",
    "import time\n",
    "import datetime\n",
    "import warnings\n",
    "import category_encoders as ce \n",
    "from category_encoders import BinaryEncoder\n",
    "from sklearn.model_selection import train_test_split\n",
    "from sklearn.linear_model import LogisticRegression\n",
    "from sklearn.metrics import accuracy_score, roc_auc_score, precision_score, recall_score, f1_score, confusion_matrix\n",
    "\n",
    "%matplotlib inline\n",
    "sns.set(style=\"whitegrid\", font_scale=1.2)\n",
    "plt.rcParams['font.family'] = 'Arial'\n",
    "plt.rcParams['font.size'] = '14'\n",
    "plt.rcParams['figure.figsize'] = [10, 5]\n",
    "pd.set_option('display.max_rows', 100)\n",
    "pd.set_option('display.max_columns', 100)\n",
    "pd.set_option('display.float_format', lambda x: '%.4f' % x) # Tira os números do formato de Notação Científica\n",
    "np.set_printoptions(suppress=True) # Tira os números do formato de Notação Científica em Numpy Arrays\n",
    "warnings.filterwarnings('ignore')\n",
    "warnings.simplefilter(action='ignore', category=FutureWarning) # Retira Future Warnings"
   ]
  },
  {
   "attachments": {},
   "cell_type": "markdown",
   "metadata": {},
   "source": [
    "# <font color='red' style='font-size: 40px;'> Exemplo Montagem de Target </font>\n",
    "<hr style='border: 2px solid red;'>"
   ]
  },
  {
   "attachments": {},
   "cell_type": "markdown",
   "metadata": {},
   "source": [
    "# <font color='green' style='font-size: 30px;'> 1.1) Teste 1 </font>\n",
    "<hr style='border: 2px solid green;'>\n",
    "\n",
    "> 1. Testes de Continuidade: Verificação da consistência temporal dos dados por contrato (sem quebras ou lacunas indevidas).\n",
    "\n",
    "> 2. Criação da Coluna flag_acordo: Identificação de registros com acordos ou renegociações.\n",
    "\n",
    "> 3. Criação da Coluna over90: Flag mensal de inadimplência grave (atraso superior a 90 dias).\n",
    "\n",
    "> 4. Criação da Coluna mau: Identificação de contratos irrecuperáveis com base em regras de negócio.\n",
    "\n",
    "> 5. Construção do Grupo Performing: Definição da amostra elegível para modelagem de PD, com base no status performing.\n",
    "\n",
    "> 6. Criação da Coluna ever90m12: Indica se o contrato atingiu atraso >90 dias em qualquer mês dos próximos 12 meses (sem considerar acordos).\n",
    "\n",
    "> 7. Criação da Coluna over90m12: Indica se o contrato está em atraso >90 dias ao final da janela futura de 12 meses (sem considerar acordos).\n",
    "\n",
    "> 8. Criação da Coluna target: Flag final de inadimplência futura, considerando tanto atraso quanto acordos.\n",
    "\n",
    "> 9. Congelamento do Snapshot de Contratos: Seleção de uma linha por contrato para representar o momento de avaliação (janela de decisão).\n",
    "\n",
    "> 10. Curva de Inadimplência (over90) por Mês: Análise temporal do volume de contratos inadimplentes mês a mês (painel e snapshot).\n",
    "\n",
    "> 11. Curvas de ever90m12 e over90m12 por Mês: Evolução mensal dos indicadores prospectivos de risco (apenas painel).\n",
    "\n",
    "> 12. Construção da Matriz de Transição: Avaliação da migração de status de crédito entre períodos (ex: performing → inadimplente).\n",
    "\n",
    "> 13. Construção da Curva de Cura: Medição da recuperação de contratos inadimplentes ao longo do tempo."
   ]
  },
  {
   "cell_type": "markdown",
   "metadata": {},
   "source": [
    "### 1.1.1) Entendimento de Conceitos\n",
    "\n",
    "> 1. data_inicio_contrato\n",
    "\n",
    "- É a data que o cliente e o banco firmaram acordo, como por exemplo 2014-09-30\n",
    "- Em muitos casos, existe \"carência\" até o 1 vencimento, portanto, o contrato existe juridicamente mas não dá para medir performance ainda\n",
    "\n",
    "> 2. safra:\n",
    "\n",
    "- Mês de nascimento da performance\n",
    "- Se a primeira parcela vence em jan/2025, o contrato é marcado como safra de 201501\n",
    "\n",
    "> 3. dat_ref:\n",
    "\n",
    "- A cada dat_ref (foto mensal), o contrato é monitorado\n",
    "- A safra nunca muda, porque é o \"carimbo\" da geração"
   ]
  },
  {
   "cell_type": "code",
   "execution_count": null,
   "metadata": {},
   "outputs": [
    {
     "data": {
      "application/vnd.microsoft.datawrangler.viewer.v0+json": {
       "columns": [
        {
         "name": "index",
         "rawType": "int64",
         "type": "integer"
        },
        {
         "name": "id_contrato",
         "rawType": "object",
         "type": "string"
        },
        {
         "name": "data_inicio_contrato",
         "rawType": "datetime64[ns]",
         "type": "datetime"
        },
        {
         "name": "data_ref",
         "rawType": "datetime64[ns]",
         "type": "datetime"
        },
        {
         "name": "safra",
         "rawType": "object",
         "type": "string"
        },
        {
         "name": "dias_atraso",
         "rawType": "int16",
         "type": "integer"
        }
       ],
       "ref": "7b625b00-5bd7-4a1c-bb89-06c8c67116eb",
       "rows": [
        [
         "0",
         "10000000",
         "2014-09-30 00:00:00",
         "2015-01-01 00:00:00",
         "201501",
         "30"
        ],
        [
         "1",
         "10000000",
         "2014-09-30 00:00:00",
         "2015-02-01 00:00:00",
         "201501",
         "15"
        ],
        [
         "2",
         "10000000",
         "2014-09-30 00:00:00",
         "2015-03-01 00:00:00",
         "201501",
         "15"
        ],
        [
         "3",
         "10000000",
         "2014-09-30 00:00:00",
         "2015-04-01 00:00:00",
         "201501",
         "30"
        ],
        [
         "4",
         "10000000",
         "2014-09-30 00:00:00",
         "2015-05-01 00:00:00",
         "201501",
         "60"
        ],
        [
         "5",
         "10000000",
         "2014-09-30 00:00:00",
         "2015-06-01 00:00:00",
         "201501",
         "90"
        ],
        [
         "6",
         "10000000",
         "2014-09-30 00:00:00",
         "2015-07-01 00:00:00",
         "201501",
         "60"
        ],
        [
         "7",
         "10000000",
         "2014-09-30 00:00:00",
         "2015-08-01 00:00:00",
         "201501",
         "90"
        ],
        [
         "8",
         "10000000",
         "2014-09-30 00:00:00",
         "2015-09-01 00:00:00",
         "201501",
         "90"
        ],
        [
         "9",
         "10000000",
         "2014-09-30 00:00:00",
         "2015-10-01 00:00:00",
         "201501",
         "60"
        ]
       ],
       "shape": {
        "columns": 5,
        "rows": 10
       }
      },
      "text/html": [
       "<div>\n",
       "<style scoped>\n",
       "    .dataframe tbody tr th:only-of-type {\n",
       "        vertical-align: middle;\n",
       "    }\n",
       "\n",
       "    .dataframe tbody tr th {\n",
       "        vertical-align: top;\n",
       "    }\n",
       "\n",
       "    .dataframe thead th {\n",
       "        text-align: right;\n",
       "    }\n",
       "</style>\n",
       "<table border=\"1\" class=\"dataframe\">\n",
       "  <thead>\n",
       "    <tr style=\"text-align: right;\">\n",
       "      <th></th>\n",
       "      <th>id_contrato</th>\n",
       "      <th>data_inicio_contrato</th>\n",
       "      <th>data_ref</th>\n",
       "      <th>safra</th>\n",
       "      <th>dias_atraso</th>\n",
       "    </tr>\n",
       "  </thead>\n",
       "  <tbody>\n",
       "    <tr>\n",
       "      <th>0</th>\n",
       "      <td>10000000</td>\n",
       "      <td>2014-09-30</td>\n",
       "      <td>2015-01-01</td>\n",
       "      <td>201501</td>\n",
       "      <td>30</td>\n",
       "    </tr>\n",
       "    <tr>\n",
       "      <th>1</th>\n",
       "      <td>10000000</td>\n",
       "      <td>2014-09-30</td>\n",
       "      <td>2015-02-01</td>\n",
       "      <td>201501</td>\n",
       "      <td>15</td>\n",
       "    </tr>\n",
       "    <tr>\n",
       "      <th>2</th>\n",
       "      <td>10000000</td>\n",
       "      <td>2014-09-30</td>\n",
       "      <td>2015-03-01</td>\n",
       "      <td>201501</td>\n",
       "      <td>15</td>\n",
       "    </tr>\n",
       "    <tr>\n",
       "      <th>3</th>\n",
       "      <td>10000000</td>\n",
       "      <td>2014-09-30</td>\n",
       "      <td>2015-04-01</td>\n",
       "      <td>201501</td>\n",
       "      <td>30</td>\n",
       "    </tr>\n",
       "    <tr>\n",
       "      <th>4</th>\n",
       "      <td>10000000</td>\n",
       "      <td>2014-09-30</td>\n",
       "      <td>2015-05-01</td>\n",
       "      <td>201501</td>\n",
       "      <td>60</td>\n",
       "    </tr>\n",
       "    <tr>\n",
       "      <th>5</th>\n",
       "      <td>10000000</td>\n",
       "      <td>2014-09-30</td>\n",
       "      <td>2015-06-01</td>\n",
       "      <td>201501</td>\n",
       "      <td>90</td>\n",
       "    </tr>\n",
       "    <tr>\n",
       "      <th>6</th>\n",
       "      <td>10000000</td>\n",
       "      <td>2014-09-30</td>\n",
       "      <td>2015-07-01</td>\n",
       "      <td>201501</td>\n",
       "      <td>60</td>\n",
       "    </tr>\n",
       "    <tr>\n",
       "      <th>7</th>\n",
       "      <td>10000000</td>\n",
       "      <td>2014-09-30</td>\n",
       "      <td>2015-08-01</td>\n",
       "      <td>201501</td>\n",
       "      <td>90</td>\n",
       "    </tr>\n",
       "    <tr>\n",
       "      <th>8</th>\n",
       "      <td>10000000</td>\n",
       "      <td>2014-09-30</td>\n",
       "      <td>2015-09-01</td>\n",
       "      <td>201501</td>\n",
       "      <td>90</td>\n",
       "    </tr>\n",
       "    <tr>\n",
       "      <th>9</th>\n",
       "      <td>10000000</td>\n",
       "      <td>2014-09-30</td>\n",
       "      <td>2015-10-01</td>\n",
       "      <td>201501</td>\n",
       "      <td>60</td>\n",
       "    </tr>\n",
       "  </tbody>\n",
       "</table>\n",
       "</div>"
      ],
      "text/plain": [
       "  id_contrato data_inicio_contrato   data_ref   safra  dias_atraso\n",
       "0    10000000           2014-09-30 2015-01-01  201501           30\n",
       "1    10000000           2014-09-30 2015-02-01  201501           15\n",
       "2    10000000           2014-09-30 2015-03-01  201501           15\n",
       "3    10000000           2014-09-30 2015-04-01  201501           30\n",
       "4    10000000           2014-09-30 2015-05-01  201501           60\n",
       "5    10000000           2014-09-30 2015-06-01  201501           90\n",
       "6    10000000           2014-09-30 2015-07-01  201501           60\n",
       "7    10000000           2014-09-30 2015-08-01  201501           90\n",
       "8    10000000           2014-09-30 2015-09-01  201501           90\n",
       "9    10000000           2014-09-30 2015-10-01  201501           60"
      ]
     },
     "metadata": {},
     "output_type": "display_data"
    },
    {
     "data": {
      "application/vnd.microsoft.datawrangler.viewer.v0+json": {
       "columns": [
        {
         "name": "index",
         "rawType": "int64",
         "type": "integer"
        },
        {
         "name": "id_antigo",
         "rawType": "object",
         "type": "string"
        },
        {
         "name": "id_novo",
         "rawType": "object",
         "type": "string"
        },
        {
         "name": "data_evento",
         "rawType": "datetime64[ns]",
         "type": "datetime"
        }
       ],
       "ref": "c2195779-7f99-4200-956e-46a6c0c18f30",
       "rows": [
        [
         "1023",
         "10000000",
         "10004583",
         "2015-12-01 00:00:00"
        ],
        [
         "368",
         "10000001",
         "10003338",
         "2015-06-01 00:00:00"
        ],
        [
         "706",
         "10000002",
         "10003996",
         "2015-09-01 00:00:00"
        ],
        [
         "0",
         "10000003",
         "10002500",
         "2015-02-01 00:00:00"
        ],
        [
         "255",
         "10000007",
         "10003118",
         "2015-05-01 00:00:00"
        ],
        [
         "1366",
         "10000009",
         "10005220",
         "2016-03-01 00:00:00"
        ],
        [
         "815",
         "10000010",
         "10004198",
         "2015-10-01 00:00:00"
        ],
        [
         "55",
         "10000011",
         "10002680",
         "2015-03-01 00:00:00"
        ],
        [
         "816",
         "10000013",
         "10004199",
         "2015-10-01 00:00:00"
        ],
        [
         "256",
         "10000015",
         "10003119",
         "2015-05-01 00:00:00"
        ]
       ],
       "shape": {
        "columns": 3,
        "rows": 10
       }
      },
      "text/html": [
       "<div>\n",
       "<style scoped>\n",
       "    .dataframe tbody tr th:only-of-type {\n",
       "        vertical-align: middle;\n",
       "    }\n",
       "\n",
       "    .dataframe tbody tr th {\n",
       "        vertical-align: top;\n",
       "    }\n",
       "\n",
       "    .dataframe thead th {\n",
       "        text-align: right;\n",
       "    }\n",
       "</style>\n",
       "<table border=\"1\" class=\"dataframe\">\n",
       "  <thead>\n",
       "    <tr style=\"text-align: right;\">\n",
       "      <th></th>\n",
       "      <th>id_antigo</th>\n",
       "      <th>id_novo</th>\n",
       "      <th>data_evento</th>\n",
       "    </tr>\n",
       "  </thead>\n",
       "  <tbody>\n",
       "    <tr>\n",
       "      <th>1023</th>\n",
       "      <td>10000000</td>\n",
       "      <td>10004583</td>\n",
       "      <td>2015-12-01</td>\n",
       "    </tr>\n",
       "    <tr>\n",
       "      <th>368</th>\n",
       "      <td>10000001</td>\n",
       "      <td>10003338</td>\n",
       "      <td>2015-06-01</td>\n",
       "    </tr>\n",
       "    <tr>\n",
       "      <th>706</th>\n",
       "      <td>10000002</td>\n",
       "      <td>10003996</td>\n",
       "      <td>2015-09-01</td>\n",
       "    </tr>\n",
       "    <tr>\n",
       "      <th>0</th>\n",
       "      <td>10000003</td>\n",
       "      <td>10002500</td>\n",
       "      <td>2015-02-01</td>\n",
       "    </tr>\n",
       "    <tr>\n",
       "      <th>255</th>\n",
       "      <td>10000007</td>\n",
       "      <td>10003118</td>\n",
       "      <td>2015-05-01</td>\n",
       "    </tr>\n",
       "    <tr>\n",
       "      <th>1366</th>\n",
       "      <td>10000009</td>\n",
       "      <td>10005220</td>\n",
       "      <td>2016-03-01</td>\n",
       "    </tr>\n",
       "    <tr>\n",
       "      <th>815</th>\n",
       "      <td>10000010</td>\n",
       "      <td>10004198</td>\n",
       "      <td>2015-10-01</td>\n",
       "    </tr>\n",
       "    <tr>\n",
       "      <th>55</th>\n",
       "      <td>10000011</td>\n",
       "      <td>10002680</td>\n",
       "      <td>2015-03-01</td>\n",
       "    </tr>\n",
       "    <tr>\n",
       "      <th>816</th>\n",
       "      <td>10000013</td>\n",
       "      <td>10004199</td>\n",
       "      <td>2015-10-01</td>\n",
       "    </tr>\n",
       "    <tr>\n",
       "      <th>256</th>\n",
       "      <td>10000015</td>\n",
       "      <td>10003119</td>\n",
       "      <td>2015-05-01</td>\n",
       "    </tr>\n",
       "  </tbody>\n",
       "</table>\n",
       "</div>"
      ],
      "text/plain": [
       "     id_antigo   id_novo data_evento\n",
       "1023  10000000  10004583  2015-12-01\n",
       "368   10000001  10003338  2015-06-01\n",
       "706   10000002  10003996  2015-09-01\n",
       "0     10000003  10002500  2015-02-01\n",
       "255   10000007  10003118  2015-05-01\n",
       "1366  10000009  10005220  2016-03-01\n",
       "815   10000010  10004198  2015-10-01\n",
       "55    10000011  10002680  2015-03-01\n",
       "816   10000013  10004199  2015-10-01\n",
       "256   10000015  10003119  2015-05-01"
      ]
     },
     "metadata": {},
     "output_type": "display_data"
    }
   ],
   "source": [
    "historico  = pd.read_parquet('./data/full_history.parquet')\n",
    "historico['data_ref'] = pd.to_datetime(historico['data_ref'])\n",
    "historico .sort_values(by=['id_contrato','data_ref'], inplace=True)\n",
    "\n",
    "rastro_contratos = pd.read_parquet('./data/rastro_contratos.parquet')\n",
    "rastro_contratos['data_evento'] = pd.to_datetime(rastro_contratos['data_evento'])\n",
    "rastro_contratos.sort_values(by=['id_antigo','id_novo', 'data_evento'], inplace=True)\n",
    "\n",
    "display(historico.head(10))\n",
    "display(rastro_contratos.head(10))\n",
    "\n"
   ]
  },
  {
   "cell_type": "markdown",
   "metadata": {},
   "source": [
    "### 1.1.2) Flag de Renegociação   \n",
    "\n",
    "> 1. Renegociação é quando o cliente não consegue mais horar o contrato original e o banco faz um novo acordo para tentar recuperar o crédito. Exemplo:\n",
    "\n",
    "- O cliente estava atrasado várias parcelas\n",
    "- Ao invés do banco contabilizar uma perda efetivamente, o banco oferece uma renegociação:\n",
    "    - Pode reparcelar o saldo devedor em novas condições de prazos\n",
    "    - Pode descontar parte da dívida\n",
    "    - Pode dar carência antes de retomar os pagamentos\n",
    "- Nesses casos, o ID do contrato geralmente muda e o novo ID carrega a dívida renegociada"
   ]
  },
  {
   "cell_type": "code",
   "execution_count": null,
   "metadata": {},
   "outputs": [],
   "source": [
    "# Eventos para o contrato antigo (renegociado) …\n",
    "flag_old = (\n",
    "    rastro_contratos[['id_antigo', 'data_evento_mes']]\n",
    "    .rename(columns={'id_antigo': 'id_contrato'})\n",
    ")\n",
    "\n",
    "# … e para o contrato novo (substituto)\n",
    "flag_new = (\n",
    "    rastro_contratos[['id_novo', 'data_evento_mes']]\n",
    "    .rename(columns={'id_novo': 'id_contrato'})\n",
    ")\n",
    "\n",
    "flag_acordo_tb = (\n",
    "    pd.concat([flag_old, flag_new], ignore_index=True)\n",
    "    .assign(flag_acordo=1)\n",
    "    .drop_duplicates()\n"
   ]
  },
  {
   "cell_type": "code",
   "execution_count": 17,
   "metadata": {},
   "outputs": [
    {
     "data": {
      "application/vnd.microsoft.datawrangler.viewer.v0+json": {
       "columns": [
        {
         "name": "index",
         "rawType": "int64",
         "type": "integer"
        },
        {
         "name": "id_contrato",
         "rawType": "object",
         "type": "string"
        },
        {
         "name": "data_inicio_contrato",
         "rawType": "datetime64[ns]",
         "type": "datetime"
        },
        {
         "name": "data_ref",
         "rawType": "datetime64[ns]",
         "type": "datetime"
        },
        {
         "name": "safra",
         "rawType": "object",
         "type": "string"
        },
        {
         "name": "dias_atraso",
         "rawType": "int16",
         "type": "integer"
        }
       ],
       "ref": "2ec3bc4e-99cd-41a3-a90d-41ed4e0bac1e",
       "rows": [
        [
         "0",
         "10000000",
         "2014-09-30 00:00:00",
         "2015-01-01 00:00:00",
         "201501",
         "30"
        ],
        [
         "1",
         "10000000",
         "2014-09-30 00:00:00",
         "2015-02-01 00:00:00",
         "201501",
         "15"
        ],
        [
         "2",
         "10000000",
         "2014-09-30 00:00:00",
         "2015-03-01 00:00:00",
         "201501",
         "15"
        ],
        [
         "3",
         "10000000",
         "2014-09-30 00:00:00",
         "2015-04-01 00:00:00",
         "201501",
         "30"
        ],
        [
         "4",
         "10000000",
         "2014-09-30 00:00:00",
         "2015-05-01 00:00:00",
         "201501",
         "60"
        ],
        [
         "5",
         "10000000",
         "2014-09-30 00:00:00",
         "2015-06-01 00:00:00",
         "201501",
         "90"
        ],
        [
         "6",
         "10000000",
         "2014-09-30 00:00:00",
         "2015-07-01 00:00:00",
         "201501",
         "60"
        ],
        [
         "7",
         "10000000",
         "2014-09-30 00:00:00",
         "2015-08-01 00:00:00",
         "201501",
         "90"
        ],
        [
         "8",
         "10000000",
         "2014-09-30 00:00:00",
         "2015-09-01 00:00:00",
         "201501",
         "90"
        ],
        [
         "9",
         "10000000",
         "2014-09-30 00:00:00",
         "2015-10-01 00:00:00",
         "201501",
         "60"
        ],
        [
         "10",
         "10000000",
         "2014-09-30 00:00:00",
         "2015-11-01 00:00:00",
         "201501",
         "60"
        ]
       ],
       "shape": {
        "columns": 5,
        "rows": 11
       }
      },
      "text/html": [
       "<div>\n",
       "<style scoped>\n",
       "    .dataframe tbody tr th:only-of-type {\n",
       "        vertical-align: middle;\n",
       "    }\n",
       "\n",
       "    .dataframe tbody tr th {\n",
       "        vertical-align: top;\n",
       "    }\n",
       "\n",
       "    .dataframe thead th {\n",
       "        text-align: right;\n",
       "    }\n",
       "</style>\n",
       "<table border=\"1\" class=\"dataframe\">\n",
       "  <thead>\n",
       "    <tr style=\"text-align: right;\">\n",
       "      <th></th>\n",
       "      <th>id_contrato</th>\n",
       "      <th>data_inicio_contrato</th>\n",
       "      <th>data_ref</th>\n",
       "      <th>safra</th>\n",
       "      <th>dias_atraso</th>\n",
       "    </tr>\n",
       "  </thead>\n",
       "  <tbody>\n",
       "    <tr>\n",
       "      <th>0</th>\n",
       "      <td>10000000</td>\n",
       "      <td>2014-09-30</td>\n",
       "      <td>2015-01-01</td>\n",
       "      <td>201501</td>\n",
       "      <td>30</td>\n",
       "    </tr>\n",
       "    <tr>\n",
       "      <th>1</th>\n",
       "      <td>10000000</td>\n",
       "      <td>2014-09-30</td>\n",
       "      <td>2015-02-01</td>\n",
       "      <td>201501</td>\n",
       "      <td>15</td>\n",
       "    </tr>\n",
       "    <tr>\n",
       "      <th>2</th>\n",
       "      <td>10000000</td>\n",
       "      <td>2014-09-30</td>\n",
       "      <td>2015-03-01</td>\n",
       "      <td>201501</td>\n",
       "      <td>15</td>\n",
       "    </tr>\n",
       "    <tr>\n",
       "      <th>3</th>\n",
       "      <td>10000000</td>\n",
       "      <td>2014-09-30</td>\n",
       "      <td>2015-04-01</td>\n",
       "      <td>201501</td>\n",
       "      <td>30</td>\n",
       "    </tr>\n",
       "    <tr>\n",
       "      <th>4</th>\n",
       "      <td>10000000</td>\n",
       "      <td>2014-09-30</td>\n",
       "      <td>2015-05-01</td>\n",
       "      <td>201501</td>\n",
       "      <td>60</td>\n",
       "    </tr>\n",
       "    <tr>\n",
       "      <th>5</th>\n",
       "      <td>10000000</td>\n",
       "      <td>2014-09-30</td>\n",
       "      <td>2015-06-01</td>\n",
       "      <td>201501</td>\n",
       "      <td>90</td>\n",
       "    </tr>\n",
       "    <tr>\n",
       "      <th>6</th>\n",
       "      <td>10000000</td>\n",
       "      <td>2014-09-30</td>\n",
       "      <td>2015-07-01</td>\n",
       "      <td>201501</td>\n",
       "      <td>60</td>\n",
       "    </tr>\n",
       "    <tr>\n",
       "      <th>7</th>\n",
       "      <td>10000000</td>\n",
       "      <td>2014-09-30</td>\n",
       "      <td>2015-08-01</td>\n",
       "      <td>201501</td>\n",
       "      <td>90</td>\n",
       "    </tr>\n",
       "    <tr>\n",
       "      <th>8</th>\n",
       "      <td>10000000</td>\n",
       "      <td>2014-09-30</td>\n",
       "      <td>2015-09-01</td>\n",
       "      <td>201501</td>\n",
       "      <td>90</td>\n",
       "    </tr>\n",
       "    <tr>\n",
       "      <th>9</th>\n",
       "      <td>10000000</td>\n",
       "      <td>2014-09-30</td>\n",
       "      <td>2015-10-01</td>\n",
       "      <td>201501</td>\n",
       "      <td>60</td>\n",
       "    </tr>\n",
       "    <tr>\n",
       "      <th>10</th>\n",
       "      <td>10000000</td>\n",
       "      <td>2014-09-30</td>\n",
       "      <td>2015-11-01</td>\n",
       "      <td>201501</td>\n",
       "      <td>60</td>\n",
       "    </tr>\n",
       "  </tbody>\n",
       "</table>\n",
       "</div>"
      ],
      "text/plain": [
       "   id_contrato data_inicio_contrato   data_ref   safra  dias_atraso\n",
       "0     10000000           2014-09-30 2015-01-01  201501           30\n",
       "1     10000000           2014-09-30 2015-02-01  201501           15\n",
       "2     10000000           2014-09-30 2015-03-01  201501           15\n",
       "3     10000000           2014-09-30 2015-04-01  201501           30\n",
       "4     10000000           2014-09-30 2015-05-01  201501           60\n",
       "5     10000000           2014-09-30 2015-06-01  201501           90\n",
       "6     10000000           2014-09-30 2015-07-01  201501           60\n",
       "7     10000000           2014-09-30 2015-08-01  201501           90\n",
       "8     10000000           2014-09-30 2015-09-01  201501           90\n",
       "9     10000000           2014-09-30 2015-10-01  201501           60\n",
       "10    10000000           2014-09-30 2015-11-01  201501           60"
      ]
     },
     "execution_count": 17,
     "metadata": {},
     "output_type": "execute_result"
    }
   ],
   "source": [
    "historico.loc[historico['id_contrato'] == '10000000']"
   ]
  },
  {
   "cell_type": "code",
   "execution_count": 18,
   "metadata": {},
   "outputs": [
    {
     "data": {
      "application/vnd.microsoft.datawrangler.viewer.v0+json": {
       "columns": [
        {
         "name": "index",
         "rawType": "int64",
         "type": "integer"
        },
        {
         "name": "id_antigo",
         "rawType": "object",
         "type": "string"
        },
        {
         "name": "id_novo",
         "rawType": "object",
         "type": "string"
        },
        {
         "name": "data_evento",
         "rawType": "datetime64[ns]",
         "type": "datetime"
        }
       ],
       "ref": "fc3a2094-de8f-428f-b464-feaa893f08ac",
       "rows": [
        [
         "1023",
         "10000000",
         "10004583",
         "2015-12-01 00:00:00"
        ]
       ],
       "shape": {
        "columns": 3,
        "rows": 1
       }
      },
      "text/html": [
       "<div>\n",
       "<style scoped>\n",
       "    .dataframe tbody tr th:only-of-type {\n",
       "        vertical-align: middle;\n",
       "    }\n",
       "\n",
       "    .dataframe tbody tr th {\n",
       "        vertical-align: top;\n",
       "    }\n",
       "\n",
       "    .dataframe thead th {\n",
       "        text-align: right;\n",
       "    }\n",
       "</style>\n",
       "<table border=\"1\" class=\"dataframe\">\n",
       "  <thead>\n",
       "    <tr style=\"text-align: right;\">\n",
       "      <th></th>\n",
       "      <th>id_antigo</th>\n",
       "      <th>id_novo</th>\n",
       "      <th>data_evento</th>\n",
       "    </tr>\n",
       "  </thead>\n",
       "  <tbody>\n",
       "    <tr>\n",
       "      <th>1023</th>\n",
       "      <td>10000000</td>\n",
       "      <td>10004583</td>\n",
       "      <td>2015-12-01</td>\n",
       "    </tr>\n",
       "  </tbody>\n",
       "</table>\n",
       "</div>"
      ],
      "text/plain": [
       "     id_antigo   id_novo data_evento\n",
       "1023  10000000  10004583  2015-12-01"
      ]
     },
     "execution_count": 18,
     "metadata": {},
     "output_type": "execute_result"
    }
   ],
   "source": [
    "rastro_contratos.loc[rastro_contratos['id_antigo'] == '10000000']"
   ]
  },
  {
   "cell_type": "code",
   "execution_count": null,
   "metadata": {},
   "outputs": [],
   "source": []
  },
  {
   "cell_type": "code",
   "execution_count": null,
   "metadata": {},
   "outputs": [],
   "source": []
  },
  {
   "cell_type": "code",
   "execution_count": null,
   "metadata": {},
   "outputs": [],
   "source": []
  },
  {
   "cell_type": "markdown",
   "metadata": {},
   "source": [
    "# <font color='red' style='font-size: 40px;'> Exemplo Rolagem </font>\n",
    "<hr style='border: 2px solid red;'>\n",
    "\n",
    "https://www.kaggle.com/datasets/adilshamim8/credit-risk-benchmark-dataset"
   ]
  },
  {
   "cell_type": "code",
   "execution_count": null,
   "metadata": {},
   "outputs": [],
   "source": []
  },
  {
   "cell_type": "code",
   "execution_count": null,
   "metadata": {},
   "outputs": [],
   "source": []
  },
  {
   "cell_type": "markdown",
   "metadata": {},
   "source": [
    "# <font color='red' style='font-size: 40px;'> Exemplo Inferência de Negados </font>\n",
    "<hr style='border: 2px solid red;'>\n",
    "\n",
    "https://python.plainenglish.io/a-project-on-reject-inference-94a6858bc821\n",
    "https://www.kaggle.com/code/shraddhacodes/credit-card-default-reject-inference-project"
   ]
  },
  {
   "cell_type": "markdown",
   "metadata": {},
   "source": [
    "# <font color='green' style='font-size: 30px;'> 1.1) Teste 1 </font>\n",
    "<hr style='border: 2px solid green;'>"
   ]
  },
  {
   "cell_type": "code",
   "execution_count": null,
   "metadata": {},
   "outputs": [],
   "source": []
  },
  {
   "cell_type": "code",
   "execution_count": null,
   "metadata": {},
   "outputs": [],
   "source": []
  },
  {
   "cell_type": "markdown",
   "metadata": {},
   "source": [
    "# <font color='red' style='font-size: 40px;'> Exemplo Regressão Logística + Binning + Scorecard </font>\n",
    "<hr style='border: 2px solid red;'>\n",
    "\n",
    "\n",
    "https://www.kaggle.com/datasets/s3r1alsh0ck/finance-dataset-for-credit-risk-fraud-detection"
   ]
  },
  {
   "cell_type": "markdown",
   "metadata": {},
   "source": [
    "# <font color='green' style='font-size: 30px;'> 1.1) Teste 1 </font>\n",
    "<hr style='border: 2px solid green;'>"
   ]
  },
  {
   "cell_type": "code",
   "execution_count": null,
   "metadata": {},
   "outputs": [],
   "source": []
  },
  {
   "cell_type": "code",
   "execution_count": null,
   "metadata": {},
   "outputs": [],
   "source": []
  },
  {
   "cell_type": "code",
   "execution_count": null,
   "metadata": {},
   "outputs": [],
   "source": []
  }
 ],
 "metadata": {
  "kernelspec": {
   "display_name": "base",
   "language": "python",
   "name": "python3"
  },
  "language_info": {
   "codemirror_mode": {
    "name": "ipython",
    "version": 3
   },
   "file_extension": ".py",
   "mimetype": "text/x-python",
   "name": "python",
   "nbconvert_exporter": "python",
   "pygments_lexer": "ipython3",
   "version": "3.13.5"
  },
  "orig_nbformat": 4
 },
 "nbformat": 4,
 "nbformat_minor": 2
}
